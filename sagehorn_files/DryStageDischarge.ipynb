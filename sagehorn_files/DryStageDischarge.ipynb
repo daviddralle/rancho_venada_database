{
 "cells": [
  {
   "cell_type": "markdown",
   "metadata": {},
   "source": []
  },
  {
   "cell_type": "code",
   "execution_count": 1,
   "metadata": {
    "collapsed": true
   },
   "outputs": [],
   "source": [
    "import pandas as pd\n",
    "import numpy as np\n",
    "import matplotlib.pyplot as plt\n",
    "%matplotlib inline\n",
    "plt.rcParams[\"font.sans-serif\"] = \"Arial\""
   ]
  },
  {
   "cell_type": "code",
   "execution_count": 4,
   "metadata": {
    "collapsed": false
   },
   "outputs": [],
   "source": [
    "\n",
    "df = pd.read_csv('Stage-Discharge Sagehorn - Sagehorn stage-discharge.csv')\n",
    "#ignore hank, other tribs\n",
    "dry =df[df.Creek=='DRY'] \n",
    "#ignore salt discharge\n",
    "dryData = dry[(dry['Method']=='Wading rod')|\n",
    "                   (dry['Method']=='Guestimate from channel cross-section, leaf velocity') |\n",
    "                    (dry['Method']=='stopwatch and bucket volume') ]\n",
    "dryLow=dryData[dryData['Water level height [m]']<0.8]\n",
    "dryHigh=dryData[dryData['Water level height [m]']>0.9]\n"
   ]
  },
  {
   "cell_type": "code",
   "execution_count": 5,
   "metadata": {
    "collapsed": false
   },
   "outputs": [
    {
     "data": {
      "text/plain": [
       "array([-5.07713153,  0.4484192 ,  1.47924463])"
      ]
     },
     "execution_count": 5,
     "metadata": {},
     "output_type": "execute_result"
    }
   ],
   "source": [
    "# pLow = np.polyfit(dryWadingRodLow['Water level height [m]'].values, dryWadingRodLow['Discharge [m^3/s]'].values,deg=2)\n",
    "pLow = np.polyfit(np.log(dryLow['Water level height [m]'].values), \n",
    "                  np.log(dryLow['Discharge [m^3/s]'].values)\n",
    "                  ,deg=2)\n",
    "\n",
    "pLow"
   ]
  },
  {
   "cell_type": "code",
   "execution_count": 6,
   "metadata": {
    "collapsed": false
   },
   "outputs": [],
   "source": [
    "x1 = 0.8\n",
    "# y1 = pLow[0]*x1**2 + pLow[1]*x1 + pLow[2]\n",
    "y1= np.exp(pLow[0]*np.log(x1)**2 + pLow[1]*np.log(x1) + pLow[2])\n",
    "x2 = (dryHigh['Water level height [m]']).mean()\n",
    "y2 = (dryHigh['Discharge [m^3/s]']).mean()\n"
   ]
  },
  {
   "cell_type": "code",
   "execution_count": 8,
   "metadata": {
    "collapsed": false
   },
   "outputs": [
    {
     "data": {
      "text/plain": [
       "array([-0.29377786,  2.56692557,  1.71379793])"
      ]
     },
     "execution_count": 8,
     "metadata": {},
     "output_type": "execute_result"
    }
   ],
   "source": [
    "pHigh = np.polyfit(np.log(np.append(dryWadingRodHigh['Water level height [m]'].values,x1)), \n",
    "                   np.log(np.append(dryWadingRodHigh['Discharge [m^3/s]'].values,y1)),\n",
    "                   deg=2,\n",
    "                   w=[1,1,1000])\n",
    "pHigh"
   ]
  },
  {
   "cell_type": "code",
   "execution_count": 9,
   "metadata": {
    "collapsed": false
   },
   "outputs": [
    {
     "data": {
      "image/png": "[encoded data removed]",
      "text/plain": [
       "<matplotlib.figure.Figure at 0x9e70630>"
      ]
     },
     "metadata": {},
     "output_type": "display_data"
    },
    {
     "data": {
      "image/png": "[encoded data removed]",
      "text/plain": [
       "<matplotlib.figure.Figure at 0xa1a7a90>"
      ]
     },
     "metadata": {},
     "output_type": "display_data"
    }
   ],
   "source": [
    "xsLow = np.linspace(0.20,0.8,100)\n",
    "xsHigh = np.linspace(0.8,1.4,100)\n",
    "\n",
    "ysLow = np.exp(pLow[0]*np.log(xsLow)**2 + pLow[1]*np.log(xsLow) + pLow[2])\n",
    "ysHigh = np.exp(pHigh[0]*np.log(xsHigh)**2 + pHigh[1]*np.log(xsHigh) + pHigh[2])\n",
    "\n",
    "plt.scatter(dryData['Water level height [m]'], dryData['Discharge [m^3/s]'],zorder=1 )\n",
    "plt.scatter(dryLow['Water level height [m]'], dryLow['Discharge [m^3/s]'],c='red',zorder=100 )\n",
    "plt.plot(xsLow,ysLow)\n",
    "plt.plot(xsHigh,ysHigh)\n",
    "\n",
    "plt.grid()\n",
    "plt.ylabel('Discharge m$^3$ / s')\n",
    "plt.xlabel('Staff gauge level height [m]')\n",
    "plt.title('Dry Creek')\n",
    "\n",
    "plt.show()\n",
    "\n",
    "plt.scatter(dryData['Water level height [m]'], dryData['Discharge [m^3/s]'],zorder=1 )\n",
    "plt.scatter(dryLow['Water level height [m]'], dryLow['Discharge [m^3/s]'],c='red',zorder=100 )\n",
    "plt.plot(xsLow,ysLow)\n",
    "plt.plot(xsHigh,ysHigh)\n",
    "\n",
    "plt.grid()\n",
    "plt.ylabel('Discharge m$^3$ / s')\n",
    "plt.xlabel('Staff gauge level height [m]')\n",
    "plt.title('Dry Creek')\n",
    "plt.yscale('log')\n",
    "plt.xscale('log')\n",
    "plt.savefig('Data/Output/Dry-Stage-Discharge.pdf')\n"
   ]
  },
  {
   "cell_type": "code",
   "execution_count": null,
   "metadata": {
    "collapsed": true
   },
   "outputs": [],
   "source": [
    "# the point 0.83, 2.79 is considered an outlier. consistent with notes from that day that state:\n",
    "#\"many SNR, velocity angle, and %Q > 5% warnings\"\n"
   ]
  },
  {
   "cell_type": "code",
   "execution_count": null,
   "metadata": {
    "collapsed": true
   },
   "outputs": [],
   "source": []
  }
 ],
 "metadata": {
  "kernelspec": {
   "display_name": "Python 2",
   "language": "python",
   "name": "python2"
  },
  "language_info": {
   "codemirror_mode": {
    "name": "ipython",
    "version": 2
   },
   "file_extension": ".py",
   "mimetype": "text/x-python",
   "name": "python",
   "nbconvert_exporter": "python",
   "pygments_lexer": "ipython2",
   "version": "2.7.12"
  }
 },
 "nbformat": 4,
 "nbformat_minor": 0
}
