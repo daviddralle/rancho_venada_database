{
 "cells": [
  {
   "cell_type": "code",
   "execution_count": 1,
   "metadata": {},
   "outputs": [],
   "source": [
    "import plotly.plotly as py\n",
    "import plotly.graph_objs as go\n",
    "import plotly.tools as tls\n",
    "import pandas as pd\n",
    "import geopandas as gp\n",
    "df = pd.read_csv('~/Dropbox/research/Sagehorn-Well-Stream-Public/Data/Output/level4e.csv', index_col=0,parse_dates=True)\n",
    "df = df.loc['1-2018']"
   ]
  },
  {
   "cell_type": "code",
   "execution_count": 50,
   "metadata": {},
   "outputs": [],
   "source": [
    "def get_layout(col):\n",
    "    layout = go.Layout(\n",
    "        showlegend=False,autosize=False,width=400,height=400,\n",
    "        xaxis=dict(\n",
    "            tickfont=dict(\n",
    "                family='Arial',\n",
    "                size=10,\n",
    "                color='#7f7f7f'\n",
    "            )\n",
    "        ),\n",
    "        yaxis=dict(\n",
    "            title=col,\n",
    "            titlefont=dict(\n",
    "                family='Arial',\n",
    "                size=10,\n",
    "                color='#7f7f7f'\n",
    "            ),\n",
    "            tickfont=dict(\n",
    "                family='Arial',\n",
    "                size=10,\n",
    "                color='#7f7f7f'\n",
    "            )\n",
    "        )\n",
    "    )\n",
    "    return layout\n",
    "    "
   ]
  },
  {
   "cell_type": "code",
   "execution_count": 62,
   "metadata": {},
   "outputs": [],
   "source": [
    "from shapely.geometry import Point\n",
    "\n",
    "pts = [Point([ -123.471715, 39.568472]), Point([ -123.462868, 39.573402])]\n",
    "desc = ['sagehornPrecipUndercatchCorrected-mm', 'dryRunoff_mmDay^-1']\n",
    "gdf = gp.GeoDataFrame(geometry = pts)\n",
    "gdf['Location'] = desc\n",
    "\n",
    "ims = []\n",
    "for i,row in gdf.iterrows():\n",
    "    col = row.Location\n",
    "    layout = get_layout(col)\n",
    "    data = [go.Scatter( x=df.index, y=df[col], name=col,  line = dict({'width':2, 'color':'black'}))]\n",
    "    fig = go.Figure(data, layout=layout, )\n",
    "    plot_url = py.plot(fig, filename=col, auto_open=False)\n",
    "    embed_source = plot_url.split(\":\")[1] + '.embed'\n",
    "    excel_url = plot_url + '.xlsx'\n",
    "    csv_url = plot_url + '.csv'\n",
    "    link = '<h3>Right click <a download=\"data.csv\" target=\"_blank\" href=\"%s\">HERE</a> and save as to download csv</h3>'%(csv_url)\n",
    "    link = link + '<h3>View webplot <a target=\"_blank\" href=\"%s\">HERE</a></h3>'%(plot_url)\n",
    "    link = link + '<iframe width=\"400\" height=\"400\" frameborder=\"0\" scrolling=\"no\" src=\"%s\"></iframe>'%embed_source\n",
    "    ims.append(link)\n",
    "\n",
    "gdf['image'] = ims\n",
    "with open('mymap.geojson', 'w') as f:\n",
    "    f.write(gdf.to_json())"
   ]
  },
  {
   "cell_type": "code",
   "execution_count": 65,
   "metadata": {},
   "outputs": [],
   "source": [
    "%%bash\n",
    "cd ~/Dropbox/research/rancho_venada_database/\n",
    "cp ./mymap* ~/Dropbox/website\n"
   ]
  },
  {
   "cell_type": "code",
   "execution_count": null,
   "metadata": {},
   "outputs": [],
   "source": []
  }
 ],
 "metadata": {
  "kernelspec": {
   "display_name": "py3k",
   "language": "python",
   "name": "py3k"
  },
  "language_info": {
   "codemirror_mode": {
    "name": "ipython",
    "version": 3
   },
   "file_extension": ".py",
   "mimetype": "text/x-python",
   "name": "python",
   "nbconvert_exporter": "python",
   "pygments_lexer": "ipython3",
   "version": "3.5.5"
  }
 },
 "nbformat": 4,
 "nbformat_minor": 2
}
